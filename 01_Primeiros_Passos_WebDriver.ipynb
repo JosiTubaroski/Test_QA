{
 "cells": [
  {
   "attachments": {},
   "cell_type": "markdown",
   "id": "d78b9178",
   "metadata": {},
   "source": [
    "\n",
    "# Selenium WebDriver com Java \n",
    "\n",
    "\n"
   ]
  },
  {
   "cell_type": "markdown",
   "id": "5f25cf69",
   "metadata": {},
   "source": [
    "- A automação de em aplicações web é uma prática essencial para garantir a qualidade e a eficiência do desenvolvimento de software. O Selenium WebDriver, uma das ferramentas mais populares para automação de testes, permite aos desenvolvedores e testadores criar scripts automatizados para interagir com páginas web em navegadores reais. Neste guia, apresentaremos os primeiros passos para instalar e configurar o Selenium WebDriver com a linguagem de programação Java, proporcionando a base para iniciar seus testes automatizados e maximizar a eficácia da automação."
   ]
  },
  {
   "cell_type": "markdown",
   "id": "5c74bf51",
   "metadata": {},
   "source": [
    "### Primeiros Passos:"
   ]
  },
  {
   "cell_type": "markdown",
   "id": "a01f022b",
   "metadata": {},
   "source": [
    "<img align=\"right\" alt=\"Coding\" width=\"50\" src=\"icons8-logo-java-coffee-cup-64.png\"></br>\n",
    "1) **Instalando Java:** Para instalação do Java voce deve acessar o site da oracle e baixar a versão compativel com seu sistema operacional."
   ]
  },
  {
   "cell_type": "markdown",
   "id": "3362fb2b",
   "metadata": {},
   "source": [
    "<img src=\"01_Oracle.GIF\" alt=\"Oracle\">"
   ]
  },
  {
   "cell_type": "markdown",
   "id": "bac9157d",
   "metadata": {},
   "source": [
    "2) Após o download a instação é bem simples apenas next, next e pronto.\n",
    "\n",
    "<img src=\"02_Instalar_Java.GIF\" alt=\"Instalar Java\">\n",
    "\n"
   ]
  },
  {
   "cell_type": "markdown",
   "id": "d30fe176",
   "metadata": {},
   "source": [
    "3) **Instalando e Configurando uma IDE**: Nesse cenário vamos utilizar o IntelliJ IDEA como interface de IDE, mas outras IDES como Eclipse, NetBeans, Visual Studio Code podem ser utilizadas. "
   ]
  },
  {
   "cell_type": "markdown",
   "id": "91be8112",
   "metadata": {},
   "source": [
    "**IntelliJ IDEA:** Baixar e Instalar o intellij idea community"
   ]
  },
  {
   "cell_type": "markdown",
   "id": "b29497f4",
   "metadata": {},
   "source": [
    "![.](InteliJIDEA.GIF)"
   ]
  },
  {
   "cell_type": "markdown",
   "id": "f0cad7f2",
   "metadata": {},
   "source": [
    "4) **Baixar o ChromeDriver:** Precisamos no Driver do Browser que iremos utilizar na automação."
   ]
  },
  {
   "cell_type": "code",
   "execution_count": null,
   "id": "fc7d2c58",
   "metadata": {},
   "outputs": [],
   "source": []
  }
 ],
 "metadata": {
  "kernelspec": {
   "display_name": "Python 3 (ipykernel)",
   "language": "python",
   "name": "python3"
  },
  "language_info": {
   "codemirror_mode": {
    "name": "ipython",
    "version": 3
   },
   "file_extension": ".py",
   "mimetype": "text/x-python",
   "name": "python",
   "nbconvert_exporter": "python",
   "pygments_lexer": "ipython3",
   "version": "3.9.13"
  }
 },
 "nbformat": 4,
 "nbformat_minor": 5
}
