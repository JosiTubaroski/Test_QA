{
 "cells": [
  {
   "cell_type": "markdown",
   "id": "7257a8d2",
   "metadata": {},
   "source": [
    "## Aula do Youtube\n",
    "\n",
    "https://www.youtube.com/watch?v=tWu5eoFeIVQ"
   ]
  },
  {
   "cell_type": "markdown",
   "id": "8ebfd513",
   "metadata": {},
   "source": [
    "### Proposta da aula, apresentar as funcionalidades mais básicas do Postman"
   ]
  },
  {
   "cell_type": "markdown",
   "id": "d15012db",
   "metadata": {},
   "source": [
    "Postman é uma ferramenta gratuita"
   ]
  },
  {
   "cell_type": "markdown",
   "id": "385344a5",
   "metadata": {},
   "source": [
    "![.](01_Site_Oficial_DownloadPostman.GIF)"
   ]
  },
  {
   "cell_type": "markdown",
   "id": "22119408",
   "metadata": {},
   "source": [
    "- Utilizando minha conta do gmail: josiquoos@gmail.com / Senha: Senha@2018, para logar no postman"
   ]
  },
  {
   "cell_type": "markdown",
   "id": "149edbe9",
   "metadata": {},
   "source": [
    "![.](02_Logando_Postman.GIF)"
   ]
  },
  {
   "cell_type": "markdown",
   "id": "628eb836",
   "metadata": {},
   "source": [
    "- Criar um workspace por projeto \n",
    "\n",
    "![.](03_Workspace.GIF)"
   ]
  },
  {
   "attachments": {},
   "cell_type": "markdown",
   "id": "bd72a50f",
   "metadata": {},
   "source": [
    "Exemplo de workspace que o professor tem.\n",
    "\n",
    "![.](04_Workspaces_Da_Aula.GIF)"
   ]
  },
  {
   "cell_type": "markdown",
   "id": "0933b94a",
   "metadata": {},
   "source": [
    "- Criando o meu primeiro workspace\n",
    "\n",
    "![.](05_MeuPrimeiroWorkspace.GIF)"
   ]
  },
  {
   "cell_type": "markdown",
   "id": "3174cd30",
   "metadata": {},
   "source": [
    "- Apresentação do workspace\n",
    "\n",
    "![.](06_Apr_Workspace.GIF)"
   ]
  },
  {
   "cell_type": "markdown",
   "id": "819b481b",
   "metadata": {},
   "source": [
    "### Opções para testes\n",
    "\n"
   ]
  },
  {
   "cell_type": "markdown",
   "id": "b5e2365c",
   "metadata": {},
   "source": [
    "![.](07_Funcoes.GIF)"
   ]
  },
  {
   "cell_type": "markdown",
   "id": "c5e75653",
   "metadata": {},
   "source": [
    "## Para Testar API vamos utilizar o HTTP request"
   ]
  },
  {
   "cell_type": "markdown",
   "id": "9cea7f2e",
   "metadata": {},
   "source": [
    "![.](08_HTTP_Request.GIF)"
   ]
  },
  {
   "cell_type": "markdown",
   "id": "bc80d61c",
   "metadata": {},
   "source": [
    "### Método GET"
   ]
  },
  {
   "cell_type": "markdown",
   "id": "8e74c2a3",
   "metadata": {},
   "source": [
    "![.](09_Metodo_Get.GIF)"
   ]
  },
  {
   "cell_type": "markdown",
   "id": "53231891",
   "metadata": {},
   "source": [
    "### Comandos para testar APIs"
   ]
  },
  {
   "cell_type": "markdown",
   "id": "352f0ad3",
   "metadata": {},
   "source": [
    "![.](10_Comandos_TestarAPIs.GIF)"
   ]
  },
  {
   "cell_type": "markdown",
   "id": "4f4e9244",
   "metadata": {},
   "source": [
    "LINK da API Utilizada.\n",
    "\n",
    "https://api.binance.com/api/v3/avgPrice?symbol=BTCUSD"
   ]
  },
  {
   "cell_type": "markdown",
   "id": "1ac42dee",
   "metadata": {},
   "source": [
    "![.](11_LinkAPIUtilizada.GIF)"
   ]
  },
  {
   "cell_type": "markdown",
   "id": "70b7d6a3",
   "metadata": {},
   "source": [
    "### Parametros"
   ]
  },
  {
   "cell_type": "markdown",
   "id": "6745f256",
   "metadata": {},
   "source": [
    "![.](12_Parametros.GIF)"
   ]
  },
  {
   "cell_type": "markdown",
   "id": "f4496824",
   "metadata": {},
   "source": [
    "### Enviando e verificando o retorno da API"
   ]
  },
  {
   "cell_type": "markdown",
   "id": "383c7e49",
   "metadata": {},
   "source": [
    "![.](13_SEND.GIF)"
   ]
  },
  {
   "cell_type": "markdown",
   "id": "81eb2427",
   "metadata": {},
   "source": [
    "### Resultado com Parametro Correto"
   ]
  },
  {
   "cell_type": "markdown",
   "id": "0989273b",
   "metadata": {},
   "source": [
    "![.](14_Resultado_Param_Correto.GIF)"
   ]
  },
  {
   "cell_type": "markdown",
   "id": "0294fb83",
   "metadata": {},
   "source": [
    "URL Correta: https://api.binance.com/api/v3/avgPrice?symbol=BTCUSDT"
   ]
  },
  {
   "cell_type": "code",
   "execution_count": null,
   "id": "c765a741",
   "metadata": {},
   "outputs": [],
   "source": []
  }
 ],
 "metadata": {
  "kernelspec": {
   "display_name": "Python 3 (ipykernel)",
   "language": "python",
   "name": "python3"
  },
  "language_info": {
   "codemirror_mode": {
    "name": "ipython",
    "version": 3
   },
   "file_extension": ".py",
   "mimetype": "text/x-python",
   "name": "python",
   "nbconvert_exporter": "python",
   "pygments_lexer": "ipython3",
   "version": "3.9.13"
  }
 },
 "nbformat": 4,
 "nbformat_minor": 5
}
